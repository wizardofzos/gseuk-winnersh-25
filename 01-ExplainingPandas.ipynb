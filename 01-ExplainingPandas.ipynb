{
 "cells": [
  {
   "cell_type": "code",
   "execution_count": null,
   "id": "a4999da0-aa12-432f-8d89-c69615117c52",
   "metadata": {},
   "outputs": [],
   "source": [
    "# We need to import the pandas framework\n",
    "import pandas as pd\n"
   ]
  },
  {
   "cell_type": "code",
   "execution_count": null,
   "id": "e3d6cd4d-49de-49aa-96ee-7203c03addfc",
   "metadata": {},
   "outputs": [],
   "source": [
    "# let's create a dataframe to represent something that makes sense to all of us...\n",
    "dict = {\n",
    "    'Name': ['Alice', 'Bob', 'Charlie'],\n",
    "    'Action': ['Send', 'Receive', 'Intercept']\n",
    "}\n",
    "actors = pd.DataFrame.from_dict(dict)\n",
    "\n",
    "# Show the dataframe\n",
    "actors"
   ]
  },
  {
   "cell_type": "code",
   "execution_count": null,
   "id": "8b4dca37-46e3-4ebb-90db-584343e490fb",
   "metadata": {},
   "outputs": [],
   "source": [
    "# So, who's trying to send?\n",
    "actors.loc[actors.Action=='Send']"
   ]
  },
  {
   "cell_type": "code",
   "execution_count": null,
   "id": "731f44f2-305a-4b17-a1fe-caee732c2b40",
   "metadata": {},
   "outputs": [],
   "source": [
    "# Looks sort of familiar?\n",
    "# actors.loc[actors.Action=='Send']['Name'].values[0]\n",
    "# from actors select Name where Action = 'Send' limit(1)"
   ]
  },
  {
   "cell_type": "code",
   "execution_count": null,
   "id": "f1cbb902-1b22-4e11-ab60-9963d3ad7a1b",
   "metadata": {},
   "outputs": [],
   "source": [
    "# Now let's get just the name\n",
    "name = actors.loc[actors.Action=='Send']['Name'].values[0]\n",
    "print(f\"{name} is trying to send...\")"
   ]
  },
  {
   "cell_type": "code",
   "execution_count": null,
   "id": "dd8886ec-8181-42a9-a93c-21bb20078ef6",
   "metadata": {},
   "outputs": [],
   "source": [
    "# Let's get a more 'real' DataFrame....\n",
    "# From the URL that has the agenda to this event in the second table\n",
    "url = \"https://www.gse.org.uk/events/gse-uk-security-working-group-next-meeting-thursday-27th-february-2025/\""
   ]
  },
  {
   "cell_type": "code",
   "execution_count": null,
   "id": "b80e9722-9863-4a2f-82f8-1393c3aac9e4",
   "metadata": {},
   "outputs": [],
   "source": [
    "# Parse all html-tables from that page\n",
    "tables = pd.read_html(url, header=0)"
   ]
  },
  {
   "cell_type": "code",
   "execution_count": null,
   "id": "50f8c256-4e80-4934-b778-8b0d017e2d2e",
   "metadata": {},
   "outputs": [],
   "source": [
    "# Let's look a the second table (index=1, we start counting at 0)\n",
    "sessions = tables[1].fillna('') # to get rid of empty cells in the table :)\n",
    "sessions.info()"
   ]
  },
  {
   "cell_type": "code",
   "execution_count": null,
   "id": "a73db147-f83e-4fac-bde6-a186b3a62dec",
   "metadata": {},
   "outputs": [],
   "source": [
    "# Let's get all the presenters...\n",
    "print('Our speakers today are:')\n",
    "for speaker in sessions['Who'].values:\n",
    "    fname = speaker.split(' ')[0]\n",
    "    if fname != \"All\" and fname != '':\n",
    "        print(f\"  - {fname}\")"
   ]
  },
  {
   "cell_type": "code",
   "execution_count": null,
   "id": "1202f72a-c81a-48d7-9c59-04353379c12c",
   "metadata": {},
   "outputs": [],
   "source": [
    "# What session is now?\n",
    "import datetime\n",
    "current_hour = datetime.datetime.now().strftime('%H')\n",
    "next_hour = int(current_hour)+1\n",
    "sessions.loc[(sessions.Start > f\"{current_hour}:00\")\n",
    "            &\n",
    "             (sessions.End<f\"{next_hour}:00\")\n",
    "            &\n",
    "             (sessions.Start < f\"{next_hour}:00\")]"
   ]
  },
  {
   "cell_type": "code",
   "execution_count": null,
   "id": "e9cf823e-a658-4479-802b-061862d0ec03",
   "metadata": {},
   "outputs": [],
   "source": [
    "# What are the sessions by people from Rocket?\n",
    "sessions.loc[sessions.Who.str.contains('Rocket Software')]"
   ]
  },
  {
   "cell_type": "code",
   "execution_count": null,
   "id": "7f39d3b9-e539-41fe-ac63-0db72106e930",
   "metadata": {},
   "outputs": [],
   "source": [
    "sessions.loc[sessions.Topic.str.contains('Security')]"
   ]
  },
  {
   "cell_type": "code",
   "execution_count": null,
   "id": "cd908ed5-3e78-4919-9f83-0a681216db05",
   "metadata": {},
   "outputs": [],
   "source": []
  }
 ],
 "metadata": {
  "kernelspec": {
   "display_name": "Python 3 (ipykernel)",
   "language": "python",
   "name": "python3"
  },
  "language_info": {
   "codemirror_mode": {
    "name": "ipython",
    "version": 3
   },
   "file_extension": ".py",
   "mimetype": "text/x-python",
   "name": "python",
   "nbconvert_exporter": "python",
   "pygments_lexer": "ipython3",
   "version": "3.9.6"
  }
 },
 "nbformat": 4,
 "nbformat_minor": 5
}
