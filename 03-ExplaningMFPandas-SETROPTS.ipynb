{
 "cells": [
  {
   "cell_type": "code",
   "execution_count": null,
   "id": "67d632bd-132c-4b5c-a3c0-abe1691eec5d",
   "metadata": {},
   "outputs": [],
   "source": [
    "# Bring in the class\n",
    "from mfpandas import SETROPTS\n",
    "# And inititialise an instance of it\n",
    "s = SETROPTS(setropts='test_setropts_data')"
   ]
  },
  {
   "cell_type": "code",
   "execution_count": null,
   "id": "9c693af0-8c03-4ac0-ac1c-a433ee57ed09",
   "metadata": {},
   "outputs": [],
   "source": [
    "# So how are all our classes defined?\n",
    "s.classInfo"
   ]
  },
  {
   "cell_type": "code",
   "execution_count": null,
   "id": "7c789bbf-c07c-4bba-b27d-02726c741b50",
   "metadata": {},
   "outputs": [],
   "source": [
    "# But how did you get that SETROPTS test data?\n",
    "# I've tried, parsing TSO SETROPTS LIST output stinks :)\n",
    "print(s.extractREXX)"
   ]
  },
  {
   "cell_type": "code",
   "execution_count": null,
   "id": "a1bd641f-669f-4e7f-bc80-1e380d2ef2d7",
   "metadata": {},
   "outputs": [],
   "source": [
    "# ok ok so what about password rules?\n",
    "s.fieldInfo.loc[s.fieldInfo.Meaning.str.contains('PASSWORD')]"
   ]
  },
  {
   "cell_type": "code",
   "execution_count": null,
   "id": "2b7fa4ca-1088-4a2e-8a97-b350c062bbb3",
   "metadata": {},
   "outputs": [],
   "source": [
    "# Is this SETROPTS file is from the same time and system as the IRRDDBU00 demo?\n",
    "s.fieldInfo.loc[s.fieldInfo.Setting=='PWDALG']"
   ]
  },
  {
   "cell_type": "code",
   "execution_count": null,
   "id": "fe22428d-9b49-4e80-8c9f-92f1fed519bb",
   "metadata": {},
   "outputs": [],
   "source": [
    "# Don't tell me we can do XLSx here too?\n",
    "s.xlsx(filename='setropts.xlsx')"
   ]
  },
  {
   "cell_type": "code",
   "execution_count": null,
   "id": "b586a32e-ffeb-489a-8b9a-63afe706c308",
   "metadata": {},
   "outputs": [],
   "source": []
  }
 ],
 "metadata": {
  "kernelspec": {
   "display_name": "Python 3 (ipykernel)",
   "language": "python",
   "name": "python3"
  },
  "language_info": {
   "codemirror_mode": {
    "name": "ipython",
    "version": 3
   },
   "file_extension": ".py",
   "mimetype": "text/x-python",
   "name": "python",
   "nbconvert_exporter": "python",
   "pygments_lexer": "ipython3",
   "version": "3.9.6"
  }
 },
 "nbformat": 4,
 "nbformat_minor": 5
}
