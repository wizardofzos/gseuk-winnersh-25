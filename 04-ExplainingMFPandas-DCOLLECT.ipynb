{
 "cells": [
  {
   "cell_type": "code",
   "execution_count": null,
   "id": "65aff19c-d45b-4b16-bcb1-af99b07b3a64",
   "metadata": {},
   "outputs": [],
   "source": [
    "# We now know what this does\n",
    "from mfpandas import DCOLLECT\n",
    "d = DCOLLECT(dcollect='test_dcollect_data')\n",
    "d.parse_fancycli()"
   ]
  },
  {
   "cell_type": "code",
   "execution_count": null,
   "id": "a1752bdd-02dc-41d2-8a84-35fe6d21ed38",
   "metadata": {},
   "outputs": [],
   "source": [
    "# So it's not parsing all the record-types yet.\n",
    "# Only V and D records.\n",
    "print(f\"There are {len(d.drecs)} datasets and {len(d.vrecs)} volumes this unload\")"
   ]
  },
  {
   "cell_type": "code",
   "execution_count": null,
   "id": "821a38c6-e1fb-4580-b75b-e51fc58d870a",
   "metadata": {},
   "outputs": [],
   "source": [
    "# Let's see how full our IPL volume is (ZPDT players know, that's A80)\n",
    "iplvol = d.vrecs.loc[d.vrecs.DCVDVNUM=='0xa80'].values[0]\n",
    "print(f\"IPLVOLUME {iplvol[0]}: {iplvol[1]}% full, fragmentation index: {iplvol[5]}\")"
   ]
  },
  {
   "cell_type": "code",
   "execution_count": null,
   "id": "04e4314e-2967-4187-8da0-60784aeb1e01",
   "metadata": {},
   "outputs": [],
   "source": [
    "# How you know to use iplvol[0] etc.?\n",
    "d.vrecs.loc[d.vrecs.DCVDVNUM=='0xa80']"
   ]
  },
  {
   "cell_type": "code",
   "execution_count": null,
   "id": "fadbd17d-9065-48e2-bc76-1b07e0ff99a3",
   "metadata": {},
   "outputs": [],
   "source": [
    "# Ok, so what's on that volume?\n",
    "d.drecs.loc[d.drecs.DCDVOLSR=='SARES1']"
   ]
  },
  {
   "cell_type": "code",
   "execution_count": null,
   "id": "756a2a06-540a-48ec-af7e-5b06a7354377",
   "metadata": {},
   "outputs": [],
   "source": [
    "# Any spooky scary weird datasets?\n",
    "d.drecs.loc[d.drecs.DCDDSNAM.str.contains('HACK')]"
   ]
  },
  {
   "cell_type": "code",
   "execution_count": null,
   "id": "ba76575f-b4d3-404d-8428-102beccee9ab",
   "metadata": {},
   "outputs": [],
   "source": [
    "# Get the amount of dataset per HLQ\n",
    "hlqs = {}\n",
    "for dsn in d.drecs['DCDDSNAM'].values:\n",
    "    hlq = dsn.split('.')[0]\n",
    "    if hlq in hlqs:\n",
    "        hlqs[hlq] += 1\n",
    "    else:\n",
    "        hlqs[hlq] = 1\n",
    "for hlq in hlqs:\n",
    "    print(f\"{hlq:8s} : {hlqs[hlq]}\")"
   ]
  },
  {
   "cell_type": "code",
   "execution_count": null,
   "id": "b17503e4-57d3-4718-9ac6-4d00de5063f2",
   "metadata": {},
   "outputs": [],
   "source": [
    "# What are those GSEUK24V datasets?\n",
    "d.drecs.loc[d.drecs.DCDDSNAM.str.startswith('GSEUK24V')]"
   ]
  },
  {
   "cell_type": "code",
   "execution_count": null,
   "id": "2b1e16e0-11fd-45eb-93b7-48548cdd0383",
   "metadata": {},
   "outputs": [],
   "source": [
    "# Can we get all the SARES1 data into an XLSx too pls? (Panda native, not yet a nice layout via mpandas)\n",
    "df = d.drecs.loc[d.drecs.DCDVOLSR=='SARES1']\n",
    "d.drecs.to_excel(\"sares1.xlsx\")  "
   ]
  },
  {
   "cell_type": "code",
   "execution_count": null,
   "id": "93f6914e-863f-44b0-ab48-24d991a73bb1",
   "metadata": {},
   "outputs": [],
   "source": []
  }
 ],
 "metadata": {
  "kernelspec": {
   "display_name": "Python 3 (ipykernel)",
   "language": "python",
   "name": "python3"
  },
  "language_info": {
   "codemirror_mode": {
    "name": "ipython",
    "version": 3
   },
   "file_extension": ".py",
   "mimetype": "text/x-python",
   "name": "python",
   "nbconvert_exporter": "python",
   "pygments_lexer": "ipython3",
   "version": "3.9.6"
  }
 },
 "nbformat": 4,
 "nbformat_minor": 5
}
