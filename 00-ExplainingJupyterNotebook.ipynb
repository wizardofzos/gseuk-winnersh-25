{
 "cells": [
  {
   "cell_type": "code",
   "execution_count": null,
   "id": "933a4f29-bda8-437a-80cf-a883bab22835",
   "metadata": {},
   "outputs": [],
   "source": [
    "# This is Jypyter Notebook\n",
    "# An interactive python 'IDE' that runs in the browser"
   ]
  },
  {
   "cell_type": "code",
   "execution_count": null,
   "id": "ec4e7ab2-234b-4b7d-8f15-dbd774821981",
   "metadata": {},
   "outputs": [],
   "source": [
    "# This is Jypyter Notebook\n",
    "# An interactive python 'IDE' that runs in the browser"
   ]
  },
  {
   "cell_type": "code",
   "execution_count": null,
   "id": "95f3f919-28e4-4184-870c-395d5c124efd",
   "metadata": {},
   "outputs": [],
   "source": [
    "# By clicking the PLAY button at the top, we can run these blocks\n",
    "print(\"Hello World\")"
   ]
  },
  {
   "cell_type": "code",
   "execution_count": null,
   "id": "fe3fc3d0-a1ad-4908-9c89-24ce32f6fd69",
   "metadata": {},
   "outputs": [],
   "source": [
    "# And then any output is shown below the executed block (so above this block)"
   ]
  },
  {
   "cell_type": "code",
   "execution_count": null,
   "id": "1eb1df79-def5-412d-bf66-b0621843d64e",
   "metadata": {},
   "outputs": [],
   "source": [
    "# We can do all the python things\n",
    "a = 10\n",
    "b = 20\n",
    "print(f\"a={a} and b={b}\")"
   ]
  },
  {
   "cell_type": "code",
   "execution_count": null,
   "id": "fb1a7045-e14f-4126-b49c-7d89c17371ba",
   "metadata": {},
   "outputs": [],
   "source": [
    "# So what would this do?\n",
    "c = a * b\n",
    "print(c)"
   ]
  },
  {
   "cell_type": "code",
   "execution_count": null,
   "id": "e587a71b-1b89-456b-9e28-5a7e3d5b7936",
   "metadata": {},
   "outputs": [],
   "source": [
    "# We can even import builtin (or installed modules, classes and/or framworks)\n",
    "# and use them\n",
    "from random import randint\n",
    "number = randint(0,10000)\n",
    "if number == 3270:\n",
    "    print(f'[{number}] What are the odds...')\n",
    "else:\n",
    "    print(f'[{number}] Had you expected differently?')"
   ]
  },
  {
   "cell_type": "code",
   "execution_count": null,
   "id": "25ab459b-2cd7-46ca-8d03-444849b41030",
   "metadata": {},
   "outputs": [],
   "source": [
    "# Any takes on what this will do?\n",
    "import antigravity"
   ]
  },
  {
   "cell_type": "code",
   "execution_count": null,
   "id": "a64eb706-9d8e-4097-a83c-f5cee0795069",
   "metadata": {},
   "outputs": [],
   "source": []
  },
  {
   "cell_type": "code",
   "execution_count": null,
   "id": "7c2b69ab-787d-4dba-b69f-73edfe3824b3",
   "metadata": {},
   "outputs": [],
   "source": []
  }
 ],
 "metadata": {
  "kernelspec": {
   "display_name": "Python 3 (ipykernel)",
   "language": "python",
   "name": "python3"
  },
  "language_info": {
   "codemirror_mode": {
    "name": "ipython",
    "version": 3
   },
   "file_extension": ".py",
   "mimetype": "text/x-python",
   "name": "python",
   "nbconvert_exporter": "python",
   "pygments_lexer": "ipython3",
   "version": "3.9.6"
  }
 },
 "nbformat": 4,
 "nbformat_minor": 5
}
