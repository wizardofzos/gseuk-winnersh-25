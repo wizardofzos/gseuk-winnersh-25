{
 "cells": [
  {
   "cell_type": "code",
   "execution_count": null,
   "id": "0fc0c5b0-2166-4491-907d-98c523cb643a",
   "metadata": {},
   "outputs": [],
   "source": [
    "# Import the class\n",
    "from mfpandas import IRRDBU00"
   ]
  },
  {
   "cell_type": "code",
   "execution_count": null,
   "id": "17709f13-2164-479a-892e-090a3e12fc18",
   "metadata": {},
   "outputs": [],
   "source": [
    "# Let's load and parse our ZPDT unload\n",
    "r = IRRDBU00(irrdbu00='test_irrdbu00_data')\n",
    "r.parse_fancycli()"
   ]
  },
  {
   "cell_type": "code",
   "execution_count": null,
   "id": "9546ab8b-4692-4962-bffa-c0c1ea75f3e0",
   "metadata": {},
   "outputs": [],
   "source": [
    "# Now the 'entire' RACF for my zPDT is available in MFPandas / IRRDBU00 Class\n",
    "# see the https://mfpandas.readthedocs.io for all methods etc.\n",
    "\n",
    "# Let's get all our special users\n",
    "r.specials"
   ]
  },
  {
   "cell_type": "code",
   "execution_count": null,
   "id": "c3f9e605-4299-4197-b089-2107ee332d98",
   "metadata": {},
   "outputs": [],
   "source": [
    "# What about all our users?\n",
    "r.users"
   ]
  },
  {
   "cell_type": "code",
   "execution_count": null,
   "id": "f896e006-e960-4770-97e4-2122bec2d3b6",
   "metadata": {},
   "outputs": [],
   "source": [
    "# Can we see the groups too?\n",
    "r.groups"
   ]
  },
  {
   "cell_type": "code",
   "execution_count": null,
   "id": "988ccdb9-b243-48d4-8b78-19a3d2ad89f6",
   "metadata": {},
   "outputs": [],
   "source": [
    "# Dataset profiles?\n",
    "r.datasets"
   ]
  },
  {
   "cell_type": "code",
   "execution_count": null,
   "id": "051a28d4-18df-4fcd-bee0-bb26a4eec7dc",
   "metadata": {},
   "outputs": [],
   "source": [
    "# access to those datasets?\n",
    "r.datasetAccess"
   ]
  },
  {
   "cell_type": "code",
   "execution_count": null,
   "id": "1d2d82b5-74b7-4508-960a-9d343051733a",
   "metadata": {},
   "outputs": [],
   "source": [
    "# Show me the acceslist of the usercatalog\n",
    "r.datasetAccess.loc[r.datasetAccess.DSACC_NAME=='USERCAT.ZDO']"
   ]
  },
  {
   "cell_type": "code",
   "execution_count": null,
   "id": "bc35ac6a-445a-4ed8-8b88-fdc8b6789c23",
   "metadata": {},
   "outputs": [],
   "source": [
    "# oooh... so there's a lot of ID(*) on the accesslist? Let's see\n",
    "r.datasetAccess.loc[r.datasetAccess.DSACC_AUTH_ID=='*']\n"
   ]
  },
  {
   "cell_type": "code",
   "execution_count": null,
   "id": "ca7a6707-9522-4a83-89a9-10d6b7840bc2",
   "metadata": {},
   "outputs": [],
   "source": [
    "# oooh not too much then....... do we have the bad stuff?\n",
    "r.datasets.loc[r.datasets.DSBD_UACC=='READ']"
   ]
  },
  {
   "cell_type": "code",
   "execution_count": null,
   "id": "585cfcfe-7726-4d31-93f4-c563431b2aa9",
   "metadata": {},
   "outputs": [],
   "source": [
    "# How is our KDFAES going?\n",
    "r.users.loc[r.users.USBD_PWD_ALG=='LEGACY'][['USBD_NAME','USBD_PWD_ALG']]"
   ]
  },
  {
   "cell_type": "code",
   "execution_count": null,
   "id": "7722a13a-d3d9-427e-9b26-308e19651297",
   "metadata": {},
   "outputs": [],
   "source": [
    "# Let's go crazy (don't mind the warnings... )\n",
    "r.xls(fileName='Demo.xlsx')"
   ]
  },
  {
   "cell_type": "code",
   "execution_count": null,
   "id": "3c6727c2-44b0-459d-a3a5-ed7d95044f4d",
   "metadata": {},
   "outputs": [],
   "source": []
  }
 ],
 "metadata": {
  "kernelspec": {
   "display_name": "Python 3 (ipykernel)",
   "language": "python",
   "name": "python3"
  },
  "language_info": {
   "codemirror_mode": {
    "name": "ipython",
    "version": 3
   },
   "file_extension": ".py",
   "mimetype": "text/x-python",
   "name": "python",
   "nbconvert_exporter": "python",
   "pygments_lexer": "ipython3",
   "version": "3.9.6"
  }
 },
 "nbformat": 4,
 "nbformat_minor": 5
}
